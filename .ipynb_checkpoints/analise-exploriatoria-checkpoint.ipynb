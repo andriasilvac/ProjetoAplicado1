{
 "cells": [
  {
   "cell_type": "code",
   "execution_count": null,
   "id": "d666024f-7449-444b-8901-6390b71f778e",
   "metadata": {},
   "outputs": [],
   "source": [
    "# Estratégias para Identificação de Produtos Best-Seller\r\n",
    "## Análise da Relação entre Preço, Desconto e Avaliação\r\n",
    "\r\n",
    "### 1. Importar Bibliotethon\r\n",
    "import pandas as pd\r\n",
    "import numpy as np\r\n",
    "import matplotlib.pyplot as plt\r\n",
    "import seaborn as sns\r\n"
   ]
  }
 ],
 "metadata": {
  "kernelspec": {
   "display_name": "Python 3 (ipykernel)",
   "language": "python",
   "name": "python3"
  },
  "language_info": {
   "codemirror_mode": {
    "name": "ipython",
    "version": 3
   },
   "file_extension": ".py",
   "mimetype": "text/x-python",
   "name": "python",
   "nbconvert_exporter": "python",
   "pygments_lexer": "ipython3",
   "version": "3.12.4"
  }
 },
 "nbformat": 4,
 "nbformat_minor": 5
}
